{
  "cells": [
    {
      "cell_type": "markdown",
      "metadata": {
        "id": "TBdlOlDZjVnG"
      },
      "source": [
        "**We would like to acknowledge Stanford University's CS231n on which we based the development of this project.**"
      ]
    },
    {
      "cell_type": "code",
      "source": [
        "!git clone https://github.com/kbaseba/239AS_2.git"
      ],
      "metadata": {
        "id": "pvo4jgqyJP9m",
        "outputId": "59f21b72-36d8-4bc4-b495-43f51fa09c41",
        "colab": {
          "base_uri": "https://localhost:8080/"
        }
      },
      "execution_count": 10,
      "outputs": [
        {
          "output_type": "stream",
          "name": "stdout",
          "text": [
            "Cloning into '239AS_2'...\n",
            "remote: Enumerating objects: 32, done.\u001b[K\n",
            "remote: Counting objects: 100% (32/32), done.\u001b[K\n",
            "remote: Compressing objects: 100% (29/29), done.\u001b[K\n",
            "remote: Total 32 (delta 6), reused 25 (delta 3), pack-reused 0 (from 0)\u001b[K\n",
            "Receiving objects: 100% (32/32), 144.15 KiB | 977.00 KiB/s, done.\n",
            "Resolving deltas: 100% (6/6), done.\n"
          ]
        }
      ]
    },
    {
      "cell_type": "code",
      "source": [
        "%cd 239AS_2/Project_1/gan/"
      ],
      "metadata": {
        "id": "GGELSWE6KNFV",
        "outputId": "244ed19f-bd5a-4022-8316-0655c2bac9d6",
        "colab": {
          "base_uri": "https://localhost:8080/"
        }
      },
      "execution_count": 11,
      "outputs": [
        {
          "output_type": "stream",
          "name": "stdout",
          "text": [
            "/content/239AS_2/Project_1/gan/239AS_2/Project_1/gan\n"
          ]
        }
      ]
    },
    {
      "cell_type": "code",
      "execution_count": 16,
      "metadata": {
        "id": "uPT9Xw_Sartd",
        "outputId": "db50596c-5876-4e91-e621-049a27d52143",
        "colab": {
          "base_uri": "https://localhost:8080/"
        }
      },
      "outputs": [
        {
          "output_type": "stream",
          "name": "stdout",
          "text": [
            "cwd /content/239AS_2/Project_1/gan/239AS_2/Project_1/gan\n"
          ]
        }
      ],
      "source": [
        "USE_COLAB = False\n",
        "\n",
        "import sys\n",
        "import os\n",
        "\n",
        "if USE_COLAB:\n",
        "    # This mounts your Google Drive to the Colab VM.\n",
        "    from google.colab import drive\n",
        "    drive.mount('/content/drive')\n",
        "\n",
        "    # TODO: Enter the foldername in your Drive where you have saved the unzipped\n",
        "    # project folder, e.g. '239AS.2/project1/gan'\n",
        "    FOLDERNAME = None\n",
        "    assert FOLDERNAME is not None, \"[!] Enter the foldername.\"\n",
        "\n",
        "    # Now that we've mounted your Drive, this ensures that\n",
        "    # the Python interpreter of the Colab VM can load\n",
        "    # python files from within it.\n",
        "\n",
        "    sys.path.append('/content/drive/My Drive/{}'.format(FOLDERNAME))\n",
        "\n",
        "    %cd /content/drive/My\\ Drive/$FOLDERNAME\n",
        "\n",
        "\n",
        "# You can use os.listdir() to find the folder\n",
        "# Google drive is...weird.\n",
        "print('cwd', os.getcwd())"
      ]
    },
    {
      "cell_type": "markdown",
      "metadata": {
        "id": "58q6R2J7HWPT"
      },
      "source": [
        "TO FIND YOUR FILES IN COLAB:\n",
        "\n",
        "Click the folder on the left sidebar\n",
        "(content->)drive->MyDrive->WhereverYouPutTheseFiles\n",
        "\n",
        "Double clicking gan.py will open an editor on the right."
      ]
    },
    {
      "cell_type": "markdown",
      "metadata": {
        "id": "QWxbgAVFHWPT"
      },
      "source": [
        "## Enabling GPU:\n",
        "Runtime > Change runtime type > Hardware accelerator: select T4 GPU or v2-8 TPU. You may run out of compute allowance at some point.\n",
        "**When you will be away for a long period of time, select Runtime->Disconnect and delete runtime! Make sure to preserve your compute allowance!**"
      ]
    },
    {
      "cell_type": "markdown",
      "metadata": {
        "id": "8tvIYtH1arti",
        "tags": [
          "pdf-title"
        ]
      },
      "source": [
        "# Generative Adversarial Networks (GANs)\n",
        "\n",
        "In C147/C247, all the applications of neural networks that we have explored have been **discriminative models** that take an input and are trained to produce a labeled output. In this notebook, we will expand our repetoire, and build **generative models** using neural networks. Specifically, we will learn how to build models which generate novel images that resemble a set of training images.\n",
        "\n",
        "### What is a GAN?\n",
        "\n",
        "In 2014, [Goodfellow et al.](https://arxiv.org/abs/1406.2661) presented a method for training generative models called Generative Adversarial Networks (GANs for short). In a GAN, we build two different neural networks. Our first network is a traditional classification network, called the **discriminator**. We will train the discriminator to take images and classify them as being real (belonging to the training set) or fake (not present in the training set). Our other network, called the **generator**, will take random noise as input and transform it using a neural network to produce images. The goal of the generator is to fool the discriminator into thinking the images it produced are real.\n",
        "\n",
        "We can think of this back and forth process of the generator ($G$) trying to fool the discriminator ($D$) and the discriminator trying to correctly classify real vs. fake as a minimax game:\n",
        "$$\\underset{G}{\\text{minimize}}\\; \\underset{D}{\\text{maximize}}\\; \\mathbb{E}_{x \\sim p_\\text{data}}\\left[\\log D(x)\\right] + \\mathbb{E}_{z \\sim p(z)}\\left[\\log \\left(1-D(G(z))\\right)\\right]$$\n",
        "where $z \\sim p(z)$ are the random noise samples, $G(z)$ are the generated images using the neural network generator $G$, and $D$ is the output of the discriminator, specifying the probability of an input being real. In [Goodfellow et al.](https://arxiv.org/abs/1406.2661), they analyze this minimax game and show how it relates to minimizing the Jensen-Shannon divergence between the training data distribution and the generated samples from $G$.\n",
        "\n",
        "To optimize this minimax game, we will alternate between taking gradient *descent* steps on the objective for $G$ and gradient *ascent* steps on the objective for $D$:\n",
        "1. update the **generator** ($G$) to minimize the probability of the __discriminator making the correct choice__.\n",
        "2. update the **discriminator** ($D$) to maximize the probability of the __discriminator making the correct choice__.\n",
        "\n",
        "While these updates are useful for analysis, they do not perform well in practice. Instead, we will use a different objective when we update the generator: maximize the probability of the **discriminator making the incorrect choice**. This small change helps to allevaiate problems with the generator gradient vanishing when the discriminator is confident. This is the standard update used in most GAN papers and was used in the original paper from [Goodfellow et al.](https://arxiv.org/abs/1406.2661).\n",
        "\n",
        "In this assignment, we will alternate the following updates:\n",
        "1. Update the generator ($G$) to maximize the probability of the discriminator making the incorrect choice on generated data:\n",
        "$$\\underset{G}{\\text{maximize}}\\;  \\mathbb{E}_{z \\sim p(z)}\\left[\\log D(G(z))\\right]$$\n",
        "2. Update the discriminator ($D$), to maximize the probability of the discriminator making the correct choice on real and generated data:\n",
        "$$\\underset{D}{\\text{maximize}}\\; \\mathbb{E}_{x \\sim p_\\text{data}}\\left[\\log D(x)\\right] + \\mathbb{E}_{z \\sim p(z)}\\left[\\log \\left(1-D(G(z))\\right)\\right]$$\n",
        "\n",
        "Here's an example of what your outputs from the 3 different models you're going to train should look like. Note that GANs are sometimes finicky, so your outputs might not look exactly like this. This is just meant to be a *rough* guideline of the kind of quality you can expect:"
      ]
    },
    {
      "cell_type": "code",
      "execution_count": 12,
      "metadata": {
        "id": "pVBCwuK7artj",
        "outputId": "a2c43e0d-f25b-42e8-9595-88e36589cf47",
        "colab": {
          "base_uri": "https://localhost:8080/",
          "height": 250
        }
      },
      "outputs": [
        {
          "output_type": "execute_result",
          "data": {
            "image/png": "[encoded data removed]",
            "text/plain": [
              "<IPython.core.display.Image object>"
            ]
          },
          "metadata": {},
          "execution_count": 12
        }
      ],
      "source": [
        "# Run this cell to see sample outputs.\n",
        "from IPython.display import Image\n",
        "Image('nndl2/gan_outputs.png')"
      ]
    },
    {
      "cell_type": "code",
      "execution_count": 13,
      "metadata": {
        "id": "Gf-hI8goartk",
        "tags": [
          "pdf-ignore"
        ]
      },
      "outputs": [],
      "source": [
        "# Setup cell.\n",
        "import numpy as np\n",
        "import torch\n",
        "import torch.nn as nn\n",
        "from torch.nn import init\n",
        "import torchvision\n",
        "import torchvision.transforms as T\n",
        "import torch.optim as optim\n",
        "from torch.utils.data import DataLoader\n",
        "from torch.utils.data import sampler\n",
        "import torchvision.datasets as dset\n",
        "import matplotlib.pyplot as plt\n",
        "import matplotlib.gridspec as gridspec\n",
        "from gan import preprocess_img, deprocess_img, rel_error, count_params, ChunkSampler\n",
        "\n",
        "%matplotlib inline\n",
        "plt.rcParams['figure.figsize'] = (10.0, 8.0) # Set default size of plots.\n",
        "plt.rcParams['image.interpolation'] = 'nearest'\n",
        "plt.rcParams['image.cmap'] = 'gray'\n",
        "\n",
        "%load_ext autoreload\n",
        "%autoreload 2\n",
        "\n",
        "def show_images(images):\n",
        "    images = np.reshape(images, [images.shape[0], -1]) # Images reshape to (batch_size, D).\n",
        "    sqrtn = int(np.ceil(np.sqrt(images.shape[0])))\n",
        "    sqrtimg = int(np.ceil(np.sqrt(images.shape[1])))\n",
        "\n",
        "    fig = plt.figure(figsize=(sqrtn, sqrtn))\n",
        "    gs = gridspec.GridSpec(sqrtn, sqrtn)\n",
        "    gs.update(wspace=0.05, hspace=0.05)\n",
        "\n",
        "    for i, img in enumerate(images):\n",
        "        ax = plt.subplot(gs[i])\n",
        "        plt.axis('off')\n",
        "        ax.set_xticklabels([])\n",
        "        ax.set_yticklabels([])\n",
        "        ax.set_aspect('equal')\n",
        "        plt.imshow(img.reshape([sqrtimg,sqrtimg]))\n",
        "    return\n",
        "\n",
        "answers = dict(np.load('nndl2/gan-checks.npz'))\n",
        "dtype = torch.cuda.FloatTensor if torch.cuda.is_available() else torch.FloatTensor"
      ]
    },
    {
      "cell_type": "markdown",
      "metadata": {
        "id": "bf7cPcVWartk",
        "tags": [
          "pdf-ignore"
        ]
      },
      "source": [
        "## Dataset\n",
        " GANs are notoriously finicky with hyperparameters, and also require many training epochs. In order to make this assignment approachable, we will be working on the MNIST dataset, which is 60,000 training and 10,000 test images. Each picture contains a centered image of white digit on black background (0 through 9). This was one of the first datasets used to train convolutional neural networks and it is fairly easy -- a standard CNN model can easily exceed 99% accuracy.\n",
        "\n",
        "To simplify our code here, we will use the PyTorch MNIST wrapper, which downloads and loads the MNIST dataset. See the [documentation](https://github.com/pytorch/vision/blob/master/torchvision/datasets/mnist.py) for more information about the interface. The default parameters will take 5,000 of the training examples and place them into a validation dataset. The data will be saved into a folder called `MNIST`."
      ]
    },
    {
      "cell_type": "code",
      "execution_count": 14,
      "metadata": {
        "id": "6YAsczDoartl",
        "tags": [
          "pdf-ignore"
        ],
        "outputId": "e57d113b-dcb3-4bb3-cf0c-9915edb91dd0",
        "colab": {
          "base_uri": "https://localhost:8080/",
          "height": 662
        }
      },
      "outputs": [
        {
          "output_type": "stream",
          "name": "stderr",
          "text": [
            "100%|██████████| 9.91M/9.91M [00:01<00:00, 5.49MB/s]\n",
            "100%|██████████| 28.9k/28.9k [00:00<00:00, 160kB/s]\n",
            "100%|██████████| 1.65M/1.65M [00:01<00:00, 1.29MB/s]\n",
            "100%|██████████| 4.54k/4.54k [00:00<00:00, 4.79MB/s]\n"
          ]
        },
        {
          "output_type": "display_data",
          "data": {
            "text/plain": [
              "<Figure size 1200x1200 with 128 Axes>"
            ],
            "image/png": "[encoded data removed]"
          },
          "metadata": {}
        }
      ],
      "source": [
        "NUM_TRAIN = 50000\n",
        "NUM_VAL = 5000\n",
        "\n",
        "NOISE_DIM = 96\n",
        "batch_size = 128\n",
        "\n",
        "mnist_train = dset.MNIST(\n",
        "    './nndl2',\n",
        "    train=True,\n",
        "    download=True,\n",
        "    transform=T.ToTensor()\n",
        ")\n",
        "loader_train = DataLoader(\n",
        "    mnist_train,\n",
        "    batch_size=batch_size,\n",
        "    sampler=ChunkSampler(NUM_TRAIN, 0)\n",
        ")\n",
        "\n",
        "mnist_val = dset.MNIST(\n",
        "    './nndl2',\n",
        "    train=True,\n",
        "    download=True,\n",
        "    transform=T.ToTensor()\n",
        ")\n",
        "loader_val = DataLoader(\n",
        "    mnist_val,\n",
        "    batch_size=batch_size,\n",
        "    sampler=ChunkSampler(NUM_VAL, NUM_TRAIN)\n",
        ")\n",
        "\n",
        "iterator = iter(loader_train)\n",
        "imgs, labels = next(iterator)\n",
        "imgs = imgs.view(batch_size, 784).numpy().squeeze()\n",
        "show_images(imgs)"
      ]
    },
    {
      "cell_type": "markdown",
      "metadata": {
        "id": "DH0UCqf5artl"
      },
      "source": [
        "## Random Noise (1 point)\n",
        "Generate uniform noise from -1 to 1 with shape `[batch_size, dim]`.\n",
        "\n",
        "Implement `sample_noise` in `gan.py`.\n",
        "\n",
        "Hint: use `torch.rand`.\n",
        "\n",
        "Make sure noise is the correct shape and type:"
      ]
    },
    {
      "cell_type": "code",
      "execution_count": 15,
      "metadata": {
        "id": "sample_noise_test",
        "outputId": "75fe82c2-99f0-43f9-cf64-81a22adbbb87",
        "colab": {
          "base_uri": "https://localhost:8080/",
          "height": 341
        }
      },
      "outputs": [
        {
          "output_type": "error",
          "ename": "AttributeError",
          "evalue": "'NoneType' object has no attribute 'cpu'",
          "traceback": [
            "\u001b[0;31m---------------------------------------------------------------------------\u001b[0m",
            "\u001b[0;31mAttributeError\u001b[0m                            Traceback (most recent call last)",
            "\u001b[0;32m<ipython-input-15-2a665ea12ca1>\u001b[0m in \u001b[0;36m<cell line: 0>\u001b[0;34m()\u001b[0m\n\u001b[1;32m     13\u001b[0m     \u001b[0mprint\u001b[0m\u001b[0;34m(\u001b[0m\u001b[0;34m'All tests passed!'\u001b[0m\u001b[0;34m)\u001b[0m\u001b[0;34m\u001b[0m\u001b[0;34m\u001b[0m\u001b[0m\n\u001b[1;32m     14\u001b[0m \u001b[0;34m\u001b[0m\u001b[0m\n\u001b[0;32m---> 15\u001b[0;31m \u001b[0mtest_sample_noise\u001b[0m\u001b[0;34m(\u001b[0m\u001b[0;34m)\u001b[0m\u001b[0;34m\u001b[0m\u001b[0;34m\u001b[0m\u001b[0m\n\u001b[0m",
            "\u001b[0;32m<ipython-input-15-2a665ea12ca1>\u001b[0m in \u001b[0;36mtest_sample_noise\u001b[0;34m()\u001b[0m\n\u001b[1;32m      6\u001b[0m     \u001b[0mtorch\u001b[0m\u001b[0;34m.\u001b[0m\u001b[0mmanual_seed\u001b[0m\u001b[0;34m(\u001b[0m\u001b[0;36m231\u001b[0m\u001b[0;34m)\u001b[0m\u001b[0;34m\u001b[0m\u001b[0;34m\u001b[0m\u001b[0m\n\u001b[1;32m      7\u001b[0m     \u001b[0mz\u001b[0m \u001b[0;34m=\u001b[0m \u001b[0msample_noise\u001b[0m\u001b[0;34m(\u001b[0m\u001b[0mbatch_size\u001b[0m\u001b[0;34m,\u001b[0m \u001b[0mdim\u001b[0m\u001b[0;34m)\u001b[0m\u001b[0;34m\u001b[0m\u001b[0;34m\u001b[0m\u001b[0m\n\u001b[0;32m----> 8\u001b[0;31m     \u001b[0mnp_z\u001b[0m \u001b[0;34m=\u001b[0m \u001b[0mz\u001b[0m\u001b[0;34m.\u001b[0m\u001b[0mcpu\u001b[0m\u001b[0;34m(\u001b[0m\u001b[0;34m)\u001b[0m\u001b[0;34m.\u001b[0m\u001b[0mnumpy\u001b[0m\u001b[0;34m(\u001b[0m\u001b[0;34m)\u001b[0m\u001b[0;34m\u001b[0m\u001b[0;34m\u001b[0m\u001b[0m\n\u001b[0m\u001b[1;32m      9\u001b[0m     \u001b[0;32massert\u001b[0m \u001b[0mnp_z\u001b[0m\u001b[0;34m.\u001b[0m\u001b[0mshape\u001b[0m \u001b[0;34m==\u001b[0m \u001b[0;34m(\u001b[0m\u001b[0mbatch_size\u001b[0m\u001b[0;34m,\u001b[0m \u001b[0mdim\u001b[0m\u001b[0;34m)\u001b[0m\u001b[0;34m\u001b[0m\u001b[0;34m\u001b[0m\u001b[0m\n\u001b[1;32m     10\u001b[0m     \u001b[0;32massert\u001b[0m \u001b[0mtorch\u001b[0m\u001b[0;34m.\u001b[0m\u001b[0mis_tensor\u001b[0m\u001b[0;34m(\u001b[0m\u001b[0mz\u001b[0m\u001b[0;34m)\u001b[0m\u001b[0;34m\u001b[0m\u001b[0;34m\u001b[0m\u001b[0m\n",
            "\u001b[0;31mAttributeError\u001b[0m: 'NoneType' object has no attribute 'cpu'"
          ]
        }
      ],
      "source": [
        "from gan import sample_noise\n",
        "\n",
        "def test_sample_noise():\n",
        "    batch_size = 3\n",
        "    dim = 4\n",
        "    torch.manual_seed(231)\n",
        "    z = sample_noise(batch_size, dim)\n",
        "    np_z = z.cpu().numpy()\n",
        "    assert np_z.shape == (batch_size, dim)\n",
        "    assert torch.is_tensor(z)\n",
        "    assert np.all(np_z >= -1.0) and np.all(np_z <= 1.0)\n",
        "    assert np.any(np_z < 0.0) and np.any(np_z > 0.0)\n",
        "    print('All tests passed!')\n",
        "\n",
        "test_sample_noise()"
      ]
    },
    {
      "cell_type": "markdown",
      "metadata": {
        "id": "2rbXdUfuartm",
        "tags": [
          "pdf-ignore"
        ]
      },
      "source": [
        "## Flatten\n",
        "\n",
        "We provide an Unflatten, which you might want to use when implementing the convolutional generator. We also provide a weight initializer (and call it for you) that uses Xavier initialization instead of PyTorch's uniform default."
      ]
    },
    {
      "cell_type": "code",
      "execution_count": null,
      "metadata": {
        "id": "znwZZ2E9artm",
        "tags": [
          "pdf-ignore"
        ]
      },
      "outputs": [],
      "source": [
        "from gan import Flatten, Unflatten, initialize_weights"
      ]
    },
    {
      "cell_type": "markdown",
      "metadata": {
        "id": "EfQ08mz-artm"
      },
      "source": [
        "# Discriminator (1 point)\n",
        "Our first step is to build a discriminator. Fill in the architecture as part of the `nn.Sequential` constructor in the function below. All fully connected layers should include bias terms. The architecture is:\n",
        " * Fully connected layer with input size 784 and output size 256\n",
        " * LeakyReLU with alpha 0.01\n",
        " * Fully connected layer with input_size 256 and output size 256\n",
        " * LeakyReLU with alpha 0.01\n",
        " * Fully connected layer with input size 256 and output size 1\n",
        "\n",
        "Recall that the Leaky ReLU nonlinearity computes $f(x) = \\max(\\alpha x, x)$ for some fixed constant $\\alpha$; for the LeakyReLU nonlinearities in the architecture above we set $\\alpha=0.01$.\n",
        "\n",
        "The output of the discriminator should have shape `[batch_size, 1]`, and contain real numbers corresponding to the scores that each of the `batch_size` inputs is a real image.\n",
        "\n",
        "Implement `discriminator` in `gan.py`"
      ]
    },
    {
      "cell_type": "markdown",
      "metadata": {
        "id": "5nL3ZxjXartm"
      },
      "source": [
        "Test to make sure the number of parameters in the discriminator is correct:"
      ]
    },
    {
      "cell_type": "code",
      "execution_count": null,
      "metadata": {
        "id": "fBdiHwjaartn"
      },
      "outputs": [],
      "source": [
        "from gan import discriminator\n",
        "\n",
        "def test_discriminator(true_count=267009):\n",
        "    model = discriminator()\n",
        "    cur_count = count_params(model)\n",
        "    if cur_count != true_count:\n",
        "        print('Incorrect number of parameters in discriminator. Check your achitecture.')\n",
        "    else:\n",
        "        print('Correct number of parameters in discriminator.')\n",
        "\n",
        "test_discriminator()"
      ]
    },
    {
      "cell_type": "markdown",
      "metadata": {
        "id": "1yQe1mdpartn"
      },
      "source": [
        "# Generator (1 point)\n",
        "Now to build the generator network:\n",
        " * Fully connected layer from noise_dim to 1024\n",
        " * `ReLU`\n",
        " * Fully connected layer with size 1024\n",
        " * `ReLU`\n",
        " * Fully connected layer with size 784\n",
        " * `TanH` (to clip the image to be in the range of [-1,1])\n",
        "\n",
        "All fully connected layers should include bias terms. Implement `generator` in `gan.py`"
      ]
    },
    {
      "cell_type": "markdown",
      "metadata": {
        "id": "SYmYWxhxartn"
      },
      "source": [
        "Test to make sure the number of parameters in the generator is correct:"
      ]
    },
    {
      "cell_type": "code",
      "execution_count": null,
      "metadata": {
        "id": "0RYeSyicartn"
      },
      "outputs": [],
      "source": [
        "from gan import generator\n",
        "\n",
        "def test_generator(true_count=1858320):\n",
        "    model = generator(4)\n",
        "    cur_count = count_params(model)\n",
        "    if cur_count != true_count:\n",
        "        print('Incorrect number of parameters in generator. Check your achitecture.')\n",
        "    else:\n",
        "        print('Correct number of parameters in generator.')\n",
        "\n",
        "test_generator()"
      ]
    },
    {
      "cell_type": "markdown",
      "metadata": {
        "id": "dQV1G-wsartn"
      },
      "source": [
        "# GAN Loss (2 points)\n",
        "\n",
        "Compute the generator and discriminator loss. The generator loss is:\n",
        "$$\\ell_G  =  -\\mathbb{E}_{z \\sim p(z)}\\left[\\log D(G(z))\\right]$$\n",
        "and the discriminator loss is:\n",
        "$$ \\ell_D = -\\mathbb{E}_{x \\sim p_\\text{data}}\\left[\\log D(x)\\right] - \\mathbb{E}_{z \\sim p(z)}\\left[\\log \\left(1-D(G(z))\\right)\\right]$$\n",
        "Note that these are negated from the equations presented earlier as we will be *minimizing* these losses.\n",
        "\n",
        "**HINTS**: You should use the `bce_loss` function defined below to compute the binary cross entropy loss which is needed to compute the log probability of the true label given the logits output from the discriminator. Given a score $s\\in\\mathbb{R}$ and a label $y\\in\\{0, 1\\}$, the binary cross entropy loss is\n",
        "\n",
        "$$ bce(s, y) = -y * \\log(s) - (1 - y) * \\log(1 - s) $$\n",
        "\n",
        "A naive implementation of this formula can be numerically unstable, so we have provided a numerically stable implementation that relies on PyTorch's `nn.BCEWithLogitsLoss`.\n",
        "\n",
        "You will also need to compute labels corresponding to real or fake and use the logit arguments to determine their size. Make sure you cast these labels to the correct data type using the global `dtype` variable for compatibility with BCEWithLogitsLoss, which uses floating point data types.\n",
        "\n",
        "\n",
        "`true_labels = torch.ones(size).type(dtype)`\n",
        "\n",
        "Instead of computing the expectation of $\\log D(G(z))$, $\\log D(x)$ and $\\log \\left(1-D(G(z))\\right)$, we will be averaging over elements of the minibatch. This is taken care of in `bce_loss` which combines the loss by averaging. **Hint**: Do NOT concatenate real and fake losses. Sum the two (empirical) expectations instead.\n",
        "\n",
        "Implement `discriminator_loss` and `generator_loss` in `gan.py`"
      ]
    },
    {
      "cell_type": "markdown",
      "metadata": {
        "id": "dqXntptOartn"
      },
      "source": [
        "Test your generator and discriminator loss. You should see errors < 1e-7."
      ]
    },
    {
      "cell_type": "code",
      "execution_count": null,
      "metadata": {
        "id": "jDGzAmSyarto"
      },
      "outputs": [],
      "source": [
        "from gan import bce_loss, discriminator_loss, generator_loss\n",
        "\n",
        "def test_discriminator_loss(logits_real, logits_fake, d_loss_true):\n",
        "    d_loss = discriminator_loss(torch.Tensor(logits_real).type(dtype),\n",
        "                                torch.Tensor(logits_fake).type(dtype)).cpu().numpy()\n",
        "    print(\"Maximum error in d_loss: %g\"%rel_error(d_loss_true, d_loss))\n",
        "\n",
        "test_discriminator_loss(\n",
        "    answers['logits_real'],\n",
        "    answers['logits_fake'],\n",
        "    answers['d_loss_true']\n",
        ")"
      ]
    },
    {
      "cell_type": "code",
      "execution_count": null,
      "metadata": {
        "id": "DkCv5gdMarto"
      },
      "outputs": [],
      "source": [
        "def test_generator_loss(logits_fake, g_loss_true):\n",
        "    g_loss = generator_loss(torch.Tensor(logits_fake).type(dtype)).cpu().numpy()\n",
        "    print(\"Maximum error in g_loss: %g\"%rel_error(g_loss_true, g_loss))\n",
        "\n",
        "test_generator_loss(\n",
        "    answers['logits_fake'],\n",
        "    answers['g_loss_true']\n",
        ")"
      ]
    },
    {
      "cell_type": "markdown",
      "metadata": {
        "id": "iM6Uo21Farto"
      },
      "source": [
        "# Optimizing Our Loss (1 point)\n",
        "Make a function that returns an `optim.Adam` optimizer for the given model with a 1e-3 learning rate, beta1=0.5, beta2=0.999. You'll use this to construct optimizers for the generators and discriminators for the rest of the notebook.\n",
        "\n",
        "Implement `get_optimizer` in `gan.py`"
      ]
    },
    {
      "cell_type": "markdown",
      "metadata": {
        "id": "k0SbkguMarto"
      },
      "source": [
        "# Training a GAN!\n",
        "\n",
        "We provide you the main training loop. You won't need to change `run_a_gan` in `gan.py`, but we encourage you to read through it for your own understanding. If you train with the CPU, it takes about 7 minutes. If you train with the T4 GPU, it takes about 1 minute and 30 seconds.\n",
        "\n",
        "If it doesn't work the first time, check the discriminator: Did you use Flatten()?"
      ]
    },
    {
      "cell_type": "code",
      "execution_count": null,
      "metadata": {
        "id": "xHfLaQcnarto",
        "scrolled": true
      },
      "outputs": [],
      "source": [
        "from gan import get_optimizer, run_a_gan\n",
        "\n",
        "# Make the discriminator\n",
        "D = discriminator().type(dtype)\n",
        "\n",
        "# Make the generator\n",
        "G = generator().type(dtype)\n",
        "\n",
        "# Use the function you wrote earlier to get optimizers for the Discriminator and the Generator\n",
        "D_solver = get_optimizer(D)\n",
        "G_solver = get_optimizer(G)\n",
        "\n",
        "# Run it!\n",
        "images = run_a_gan(\n",
        "    D,\n",
        "    G,\n",
        "    D_solver,\n",
        "    G_solver,\n",
        "    discriminator_loss,\n",
        "    generator_loss,\n",
        "    loader_train\n",
        ")"
      ]
    },
    {
      "cell_type": "markdown",
      "metadata": {
        "id": "2P-DwNhRarto"
      },
      "source": [
        "Run the cell below to show the generated images."
      ]
    },
    {
      "cell_type": "code",
      "execution_count": null,
      "metadata": {
        "id": "ymqZUQe2arto"
      },
      "outputs": [],
      "source": [
        "numIter = 0\n",
        "for img in images:\n",
        "    print(\"Iter: {}\".format(numIter))\n",
        "    show_images(img)\n",
        "    plt.show()\n",
        "    numIter += 250\n",
        "    print()"
      ]
    },
    {
      "cell_type": "markdown",
      "metadata": {
        "id": "fuRlzKG1artp"
      },
      "source": [
        "## Inline Question 1\n",
        "\n",
        "What does your final vanilla GAN image look like?"
      ]
    },
    {
      "cell_type": "code",
      "execution_count": null,
      "metadata": {
        "id": "43dWyQDjartp"
      },
      "outputs": [],
      "source": [
        "# This output is your answer.\n",
        "print(\"Vanilla GAN final image:\")\n",
        "show_images(images[-1])\n",
        "plt.show()"
      ]
    },
    {
      "cell_type": "markdown",
      "metadata": {
        "id": "zVNyCm7rartp",
        "tags": [
          "pdf-ignore"
        ]
      },
      "source": [
        "Well that wasn't so hard, was it? In the iterations in the low 100s you should see black backgrounds, fuzzy shapes as you approach iteration 1000, and decent shapes, about half of which will be sharp and clearly recognizable as we pass 3000."
      ]
    },
    {
      "cell_type": "markdown",
      "metadata": {
        "id": "1rXn_aGKartp"
      },
      "source": [
        "# Least Squares GAN (2 points)\n",
        "We'll now look at [Least Squares GAN](https://arxiv.org/abs/1611.04076), a newer, more stable alernative to the original GAN loss function. For this part, all we have to do is change the loss function and retrain the model. We'll implement equation (9) in the paper, with the generator loss:\n",
        "$$\\ell_G  =  \\frac{1}{2}\\mathbb{E}_{z \\sim p(z)}\\left[\\left(D(G(z))-1\\right)^2\\right]$$\n",
        "and the discriminator loss:\n",
        "$$ \\ell_D = \\frac{1}{2}\\mathbb{E}_{x \\sim p_\\text{data}}\\left[\\left(D(x)-1\\right)^2\\right] + \\frac{1}{2}\\mathbb{E}_{z \\sim p(z)}\\left[ \\left(D(G(z))\\right)^2\\right]$$\n",
        "\n",
        "\n",
        "**HINTS**: Instead of computing the expectation, we will be averaging over elements of the minibatch, so make sure to combine the loss by averaging instead of summing. When plugging in for $D(x)$ and $D(G(z))$ use the direct output from the discriminator (`scores_real` and `scores_fake`). **If** you get errors of 0.333..., you probably forgot to include the 1/2 term.\n",
        "\n",
        "Implement `ls_discriminator_loss`, `ls_generator_loss` in `gan.py`"
      ]
    },
    {
      "cell_type": "markdown",
      "metadata": {
        "id": "EbYpnizVartp"
      },
      "source": [
        "Before running a GAN with our new loss function, let's check it:"
      ]
    },
    {
      "cell_type": "code",
      "execution_count": null,
      "metadata": {
        "id": "m2prNeS4artp"
      },
      "outputs": [],
      "source": [
        "from gan import ls_discriminator_loss, ls_generator_loss\n",
        "\n",
        "def test_lsgan_loss(score_real, score_fake, d_loss_true, g_loss_true):\n",
        "    score_real = torch.Tensor(score_real).type(dtype)\n",
        "    score_fake = torch.Tensor(score_fake).type(dtype)\n",
        "    d_loss = ls_discriminator_loss(score_real, score_fake).cpu().numpy()\n",
        "    g_loss = ls_generator_loss(score_fake).cpu().numpy()\n",
        "    print(\"Maximum error in d_loss: %g\"%rel_error(d_loss_true, d_loss))\n",
        "    print(\"Maximum error in g_loss: %g\"%rel_error(g_loss_true, g_loss))\n",
        "\n",
        "test_lsgan_loss(\n",
        "    answers['logits_real'],\n",
        "    answers['logits_fake'],\n",
        "    answers['d_loss_lsgan_true'],\n",
        "    answers['g_loss_lsgan_true']\n",
        ")"
      ]
    },
    {
      "cell_type": "markdown",
      "metadata": {
        "id": "0HtuFRwJartp"
      },
      "source": [
        "Run the following cell to train your model! If you train with the CPU, it takes about 7 minutes. If you train with the T4 GPU, it takes about 1 minute and 30 seconds."
      ]
    },
    {
      "cell_type": "code",
      "execution_count": null,
      "metadata": {
        "id": "ZiMMaqVaartq"
      },
      "outputs": [],
      "source": [
        "D_LS = discriminator().type(dtype)\n",
        "G_LS = generator().type(dtype)\n",
        "\n",
        "D_LS_solver = get_optimizer(D_LS)\n",
        "G_LS_solver = get_optimizer(G_LS)\n",
        "\n",
        "images = run_a_gan(\n",
        "    D_LS,\n",
        "    G_LS,\n",
        "    D_LS_solver,\n",
        "    G_LS_solver,\n",
        "    ls_discriminator_loss,\n",
        "    ls_generator_loss,\n",
        "    loader_train\n",
        ")"
      ]
    },
    {
      "cell_type": "markdown",
      "metadata": {
        "id": "6cz3jgbKartq"
      },
      "source": [
        "Run the cell below to show generated images."
      ]
    },
    {
      "cell_type": "code",
      "execution_count": null,
      "metadata": {
        "id": "VX_Nkmsaartq"
      },
      "outputs": [],
      "source": [
        "numIter = 0\n",
        "for img in images:\n",
        "    print(\"Iter: {}\".format(numIter))\n",
        "    show_images(img)\n",
        "    plt.show()\n",
        "    numIter += 250\n",
        "    print()"
      ]
    },
    {
      "cell_type": "markdown",
      "metadata": {
        "id": "zMkEpe-nartq"
      },
      "source": [
        "## Inline Question 2\n",
        "\n",
        "What does your final LSGAN image look like?"
      ]
    },
    {
      "cell_type": "code",
      "execution_count": null,
      "metadata": {
        "id": "FBnVBeQPartq"
      },
      "outputs": [],
      "source": [
        "# This output is your answer.\n",
        "print(\"LSGAN final image:\")\n",
        "show_images(images[-1])\n",
        "plt.show()"
      ]
    },
    {
      "cell_type": "markdown",
      "metadata": {
        "id": "Q6Gzrxkzartq"
      },
      "source": [
        "# Deep Convolutional GAN (2 points)\n",
        "In the first part of the notebook, we implemented an almost direct copy of the original GAN network from Ian Goodfellow. However, this network architecture allows no real spatial reasoning. It is unable to reason about things like \"sharp edges\" in general because it lacks any convolutional layers. Thus, in this section, we will implement some of the ideas from [DCGAN](https://arxiv.org/abs/1511.06434), where we use convolutional networks\n",
        "\n",
        "#### Discriminator\n",
        "We will use a discriminator inspired by the TensorFlow MNIST classification tutorial, which is able to get above 99% accuracy on the MNIST dataset fairly quickly. **Hint**: There is no need to specify padding. **Warning**: If you use LazyLinear I will take off points.\n",
        "* Conv2D: 32 Filters, 5x5, Stride 1\n",
        "* Leaky ReLU(alpha=0.01)\n",
        "* Max Pool 2x2, Stride 2\n",
        "* Conv2D: 64 Filters, 5x5, Stride 1\n",
        "* Leaky ReLU(alpha=0.01)\n",
        "* Max Pool 2x2, Stride 2\n",
        "* Flatten\n",
        "* Fully Connected with output size 4 x 4 x 64\n",
        "* Leaky ReLU(alpha=0.01)\n",
        "* Fully Connected with output size 1\n",
        "\n",
        "Implement `build_dc_classifier` in `gan.py`"
      ]
    },
    {
      "cell_type": "code",
      "execution_count": null,
      "metadata": {
        "id": "QcSl6j49artv"
      },
      "outputs": [],
      "source": [
        "from gan import build_dc_classifier\n",
        "\n",
        "data = next(enumerate(loader_train))[-1][0].type(dtype)\n",
        "b = build_dc_classifier().type(dtype)\n",
        "out = b(data)\n",
        "print(out.size())"
      ]
    },
    {
      "cell_type": "markdown",
      "metadata": {
        "id": "EvnXQpcdartv"
      },
      "source": [
        "Check the number of parameters in your classifier as a sanity check:"
      ]
    },
    {
      "cell_type": "code",
      "execution_count": null,
      "metadata": {
        "id": "-mJin5aDartv"
      },
      "outputs": [],
      "source": [
        "def test_dc_classifer(true_count=1102721):\n",
        "    model = build_dc_classifier()\n",
        "    cur_count = count_params(model)\n",
        "    if cur_count != true_count:\n",
        "        print('Incorrect number of parameters in classifier. Check your achitecture.')\n",
        "    else:\n",
        "        print('Correct number of parameters in classifier.')\n",
        "\n",
        "test_dc_classifer()"
      ]
    },
    {
      "cell_type": "markdown",
      "metadata": {
        "id": "Vx7V4P_Jartv"
      },
      "source": [
        "#### Generator\n",
        "For the generator, we will copy the architecture exactly from the [InfoGAN paper](https://arxiv.org/pdf/1606.03657.pdf). See Appendix C.1 MNIST. See the documentation for [nn.ConvTranspose2d](https://pytorch.org/docs/stable/generated/torch.nn.ConvTranspose2d.html). We are always \"training\" in GAN mode.\n",
        "* Fully connected with output size 1024\n",
        "* `ReLU`\n",
        "* BatchNorm\n",
        "* Fully connected with output size 7 x 7 x 128\n",
        "* ReLU\n",
        "* BatchNorm\n",
        "* Use `Unflatten()` to reshape into Image Tensor of shape 7, 7, 128\n",
        "* `ConvTranspose2d`: 64 filters of 4x4, stride 2, 'same' padding (use `padding=1`)\n",
        "* `ReLU`\n",
        "* BatchNorm\n",
        "* `ConvTranspose2d`: 1 filter of 4x4, stride 2, 'same' padding (use `padding=1`)\n",
        "* `TanH`\n",
        "* Should have a 28x28x1 image, reshape back into 784 vector (using `Flatten()`)\n",
        "\n",
        "Implement `build_dc_generator` in `gan.py`"
      ]
    },
    {
      "cell_type": "code",
      "execution_count": null,
      "metadata": {
        "id": "HZWPsnjFartv"
      },
      "outputs": [],
      "source": [
        "from gan import build_dc_generator\n",
        "\n",
        "test_g_gan = build_dc_generator().type(dtype)\n",
        "test_g_gan.apply(initialize_weights)\n",
        "\n",
        "fake_seed = torch.randn(batch_size, NOISE_DIM).type(dtype)\n",
        "fake_images = test_g_gan.forward(fake_seed)\n",
        "fake_images.size()"
      ]
    },
    {
      "cell_type": "markdown",
      "metadata": {
        "id": "RHhlaxxoartv"
      },
      "source": [
        "Check the number of parameters in your generator as a sanity check:"
      ]
    },
    {
      "cell_type": "code",
      "execution_count": null,
      "metadata": {
        "id": "x43YaDP7artw"
      },
      "outputs": [],
      "source": [
        "def test_dc_generator(true_count=6580801):\n",
        "    model = build_dc_generator(4)\n",
        "    cur_count = count_params(model)\n",
        "    if cur_count != true_count:\n",
        "        print('Incorrect number of parameters in generator. Check your achitecture.')\n",
        "    else:\n",
        "        print('Correct number of parameters in generator.')\n",
        "\n",
        "test_dc_generator()"
      ]
    },
    {
      "cell_type": "markdown",
      "metadata": {
        "id": "iI1sOgsVbLAP"
      },
      "source": [
        "Run the following cell to train your DCGAN. If you train with the CPU, it takes about 35 minutes. If you train with the T4 GPU, it takes about 1 minute."
      ]
    },
    {
      "cell_type": "code",
      "execution_count": null,
      "metadata": {
        "id": "i79hzrgdartw"
      },
      "outputs": [],
      "source": [
        "D_DC = build_dc_classifier().type(dtype)\n",
        "D_DC.apply(initialize_weights)\n",
        "G_DC = build_dc_generator().type(dtype)\n",
        "G_DC.apply(initialize_weights)\n",
        "\n",
        "D_DC_solver = get_optimizer(D_DC)\n",
        "G_DC_solver = get_optimizer(G_DC)\n",
        "\n",
        "images = run_a_gan(\n",
        "    D_DC,\n",
        "    G_DC,\n",
        "    D_DC_solver,\n",
        "    G_DC_solver,\n",
        "    discriminator_loss,\n",
        "    generator_loss,\n",
        "    loader_train,\n",
        "    num_epochs=5\n",
        ")"
      ]
    },
    {
      "cell_type": "markdown",
      "metadata": {
        "id": "Zcw52POtartw"
      },
      "source": [
        "Run the cell below to show generated images."
      ]
    },
    {
      "cell_type": "code",
      "execution_count": null,
      "metadata": {
        "id": "-q3kErMWartw"
      },
      "outputs": [],
      "source": [
        "numIter = 0\n",
        "for img in images:\n",
        "    print(\"Iter: {}\".format(numIter))\n",
        "    show_images(img)\n",
        "    plt.show()\n",
        "    numIter += 250\n",
        "    print()"
      ]
    },
    {
      "cell_type": "markdown",
      "metadata": {
        "id": "9LhJguz2artw"
      },
      "source": [
        "## Inline Question 3\n",
        "\n",
        "What does your final DCGAN image look like?"
      ]
    },
    {
      "cell_type": "code",
      "execution_count": null,
      "metadata": {
        "id": "07zKI8H4artw"
      },
      "outputs": [],
      "source": [
        "# This output is your answer.\n",
        "print(\"DCGAN final image:\")\n",
        "show_images(images[-1])\n",
        "plt.show()"
      ]
    },
    {
      "cell_type": "markdown",
      "metadata": {
        "id": "NUZzt-CMartw",
        "tags": [
          "pdf-inline"
        ]
      },
      "source": [
        "## Inline Question 4 (1 point)\n",
        "\n",
        "We will look at an example to see why alternating minimization of the same objective (like in a GAN) can be tricky business.\n",
        "\n",
        "Consider $f(x,y)=xy$. What does $\\min_x\\max_y f(x,y)$ evaluate to? (Hint: minmax tries to minimize the maximum value achievable.)\n",
        "\n",
        "Now try to evaluate this function numerically for 6 steps, starting at the point $(1,1)$,\n",
        "by using alternating gradient (first updating y, then updating x using that updated y) with step size $1$. **Here step size is the learning_rate, and steps will be learning_rate * gradient.**\n",
        "You'll find that writing out the update step in terms of $x_t,y_t,x_{t+1},y_{t+1}$ will be useful.\n",
        "\n",
        "Record the six pairs of explicit values for $(x_t,y_t)$ in the table below and briefly explain what $f(x,y)$ evaluates to.\n",
        "\n",
        "### Your answer:\n",
        "\n",
        "\n",
        "| $y_0$  | $y_1$  | $y_2$  | $y_3$  | $y_4$  | $y_5$  | $y_6$  |\n",
        "| :----- | :----- | :----- | :----- | :----- | :----- | :----- |\n",
        "|   1    | Fill   | Fill   | Fill   | Fill   | Fill   | Fill   |\n",
        "| $x_0$  | $x_1$  | $x_2$  | $x_3$  | $x_4$  | $x_5$  | $x_6$  |\n",
        "|   1    | Fill   | Fill   | Fill   | Fill   | Fill   | Fill   |\n",
        "   \n",
        "\n",
        "\n"
      ]
    },
    {
      "cell_type": "markdown",
      "metadata": {
        "id": "faQ7yWb6artx",
        "tags": [
          "pdf-inline"
        ]
      },
      "source": [
        "## Inline Question 5 (1 point)\n",
        "Using this method, will we ever reach the optimal value? Why or why not?\n",
        "\n",
        "### Your answer:\n"
      ]
    },
    {
      "cell_type": "markdown",
      "metadata": {
        "id": "gdDOdO6-artx",
        "tags": [
          "pdf-inline"
        ]
      },
      "source": [
        "## Inline Question 6 (1 point)\n",
        "If the generator loss decreases during training while the discriminator loss stays at a constant high value from the start, is this a good sign? Why or why not? A qualitative answer is sufficient.\n",
        "\n",
        "### Your answer:\n"
      ]
    }
  ],
  "metadata": {
    "colab": {
      "provenance": []
    },
    "kernelspec": {
      "display_name": "Python 3",
      "language": "python",
      "name": "python3"
    },
    "language_info": {
      "codemirror_mode": {
        "name": "ipython",
        "version": 3
      },
      "file_extension": ".py",
      "mimetype": "text/x-python",
      "name": "python",
      "nbconvert_exporter": "python",
      "pygments_lexer": "ipython3",
      "version": "3.8.8"
    }
  },
  "nbformat": 4,
  "nbformat_minor": 0
}